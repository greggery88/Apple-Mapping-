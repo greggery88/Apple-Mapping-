{
 "cells": [
  {
   "metadata": {
    "ExecuteTime": {
     "end_time": "2025-02-26T03:41:59.886151Z",
     "start_time": "2025-02-26T03:41:59.284073Z"
    }
   },
   "cell_type": "code",
   "source": [
    "import numpy as np\n",
    "import pandas as pd\n",
    "import os\n",
    "import geoplot as gplt\n",
    "import geopandas as geopd\n",
    "import geoplot.crs as gcrs\n",
    "from numpy.ma.extras import unique"
   ],
   "id": "f54205bd-d46e-4748-8df7-6faa7598d615",
   "outputs": [
    {
     "name": "stderr",
     "output_type": "stream",
     "text": [
      "/Users/jwilliamson/venvs/Apple-mapping/lib/python3.9/site-packages/urllib3/__init__.py:35: NotOpenSSLWarning: urllib3 v2 only supports OpenSSL 1.1.1+, currently the 'ssl' module is compiled with 'LibreSSL 2.8.3'. See: https://github.com/urllib3/urllib3/issues/3020\n",
      "  warnings.warn(\n"
     ]
    }
   ],
   "execution_count": 2
  },
  {
   "metadata": {
    "ExecuteTime": {
     "end_time": "2025-02-26T03:41:59.905214Z",
     "start_time": "2025-02-26T03:41:59.890336Z"
    }
   },
   "cell_type": "code",
   "source": [
    "town_cords = pd.read_csv(\"/Users/jwilliamson/git/plasma_particle_simulator/Apple-mapping/codes/town cords.csv\", index_col=False)\n",
    "town_cords.head(10)"
   ],
   "id": "6c234241144880a",
   "outputs": [
    {
     "data": {
      "text/plain": [
       "         Location  Latitude  Longitude\n",
       "0           Anson     44.80     -69.90\n",
       "1         Ashland     46.62     -68.40\n",
       "2     Auburn city     44.09     -70.25\n",
       "3    Augusta city     44.33     -69.73\n",
       "4     Bangor city     44.83     -68.79\n",
       "5      Bar Harbor     44.38     -68.21\n",
       "6       Bath city     43.93     -69.83\n",
       "7    Belfast city     44.43     -69.03\n",
       "8         Berwick     43.27     -70.86\n",
       "9  Biddeford city     43.44     -70.40"
      ],
      "text/html": [
       "<div>\n",
       "<style scoped>\n",
       "    .dataframe tbody tr th:only-of-type {\n",
       "        vertical-align: middle;\n",
       "    }\n",
       "\n",
       "    .dataframe tbody tr th {\n",
       "        vertical-align: top;\n",
       "    }\n",
       "\n",
       "    .dataframe thead th {\n",
       "        text-align: right;\n",
       "    }\n",
       "</style>\n",
       "<table border=\"1\" class=\"dataframe\">\n",
       "  <thead>\n",
       "    <tr style=\"text-align: right;\">\n",
       "      <th></th>\n",
       "      <th>Location</th>\n",
       "      <th>Latitude</th>\n",
       "      <th>Longitude</th>\n",
       "    </tr>\n",
       "  </thead>\n",
       "  <tbody>\n",
       "    <tr>\n",
       "      <th>0</th>\n",
       "      <td>Anson</td>\n",
       "      <td>44.80</td>\n",
       "      <td>-69.90</td>\n",
       "    </tr>\n",
       "    <tr>\n",
       "      <th>1</th>\n",
       "      <td>Ashland</td>\n",
       "      <td>46.62</td>\n",
       "      <td>-68.40</td>\n",
       "    </tr>\n",
       "    <tr>\n",
       "      <th>2</th>\n",
       "      <td>Auburn city</td>\n",
       "      <td>44.09</td>\n",
       "      <td>-70.25</td>\n",
       "    </tr>\n",
       "    <tr>\n",
       "      <th>3</th>\n",
       "      <td>Augusta city</td>\n",
       "      <td>44.33</td>\n",
       "      <td>-69.73</td>\n",
       "    </tr>\n",
       "    <tr>\n",
       "      <th>4</th>\n",
       "      <td>Bangor city</td>\n",
       "      <td>44.83</td>\n",
       "      <td>-68.79</td>\n",
       "    </tr>\n",
       "    <tr>\n",
       "      <th>5</th>\n",
       "      <td>Bar Harbor</td>\n",
       "      <td>44.38</td>\n",
       "      <td>-68.21</td>\n",
       "    </tr>\n",
       "    <tr>\n",
       "      <th>6</th>\n",
       "      <td>Bath city</td>\n",
       "      <td>43.93</td>\n",
       "      <td>-69.83</td>\n",
       "    </tr>\n",
       "    <tr>\n",
       "      <th>7</th>\n",
       "      <td>Belfast city</td>\n",
       "      <td>44.43</td>\n",
       "      <td>-69.03</td>\n",
       "    </tr>\n",
       "    <tr>\n",
       "      <th>8</th>\n",
       "      <td>Berwick</td>\n",
       "      <td>43.27</td>\n",
       "      <td>-70.86</td>\n",
       "    </tr>\n",
       "    <tr>\n",
       "      <th>9</th>\n",
       "      <td>Biddeford city</td>\n",
       "      <td>43.44</td>\n",
       "      <td>-70.40</td>\n",
       "    </tr>\n",
       "  </tbody>\n",
       "</table>\n",
       "</div>"
      ]
     },
     "execution_count": 3,
     "metadata": {},
     "output_type": "execute_result"
    }
   ],
   "execution_count": 3
  },
  {
   "metadata": {
    "ExecuteTime": {
     "end_time": "2025-02-26T03:41:59.959959Z",
     "start_time": "2025-02-26T03:41:59.951840Z"
    }
   },
   "cell_type": "code",
   "source": [
    "county_cords = pd.read_csv(\"/Users/jwilliamson/git/plasma_particle_simulator/Apple-mapping/cord data/CountyCords.csv\", index_col=False)\n",
    "county_cords"
   ],
   "id": "f8ce72d5fd87f465",
   "outputs": [
    {
     "data": {
      "text/plain": [
       "          County  Latitude  longitude\n",
       "0   Androscoggin   -70.198     44.187\n",
       "1      Aroostook   -68.412     46.574\n",
       "2     Cumberland   -70.268     43.874\n",
       "3       Franklin   -70.449     44.980\n",
       "4        Hancock   -68.402     44.614\n",
       "5       Kennebec   -69.753     44.415\n",
       "6           Knox   -69.135     44.101\n",
       "7        Lincoln   -69.518     44.078\n",
       "8         Oxford   -70.734     44.426\n",
       "9      Penobscot   -68.575     45.354\n",
       "10   Piscataquis   -69.473     45.621\n",
       "11     Sagadahoc   -69.807     43.936\n",
       "12      Somerset   -69.921     45.392\n",
       "13         Waldo   -69.221     44.545\n",
       "14    Washington   -67.759     44.976\n",
       "15          York   -70.757     43.471"
      ],
      "text/html": [
       "<div>\n",
       "<style scoped>\n",
       "    .dataframe tbody tr th:only-of-type {\n",
       "        vertical-align: middle;\n",
       "    }\n",
       "\n",
       "    .dataframe tbody tr th {\n",
       "        vertical-align: top;\n",
       "    }\n",
       "\n",
       "    .dataframe thead th {\n",
       "        text-align: right;\n",
       "    }\n",
       "</style>\n",
       "<table border=\"1\" class=\"dataframe\">\n",
       "  <thead>\n",
       "    <tr style=\"text-align: right;\">\n",
       "      <th></th>\n",
       "      <th>County</th>\n",
       "      <th>Latitude</th>\n",
       "      <th>longitude</th>\n",
       "    </tr>\n",
       "  </thead>\n",
       "  <tbody>\n",
       "    <tr>\n",
       "      <th>0</th>\n",
       "      <td>Androscoggin</td>\n",
       "      <td>-70.198</td>\n",
       "      <td>44.187</td>\n",
       "    </tr>\n",
       "    <tr>\n",
       "      <th>1</th>\n",
       "      <td>Aroostook</td>\n",
       "      <td>-68.412</td>\n",
       "      <td>46.574</td>\n",
       "    </tr>\n",
       "    <tr>\n",
       "      <th>2</th>\n",
       "      <td>Cumberland</td>\n",
       "      <td>-70.268</td>\n",
       "      <td>43.874</td>\n",
       "    </tr>\n",
       "    <tr>\n",
       "      <th>3</th>\n",
       "      <td>Franklin</td>\n",
       "      <td>-70.449</td>\n",
       "      <td>44.980</td>\n",
       "    </tr>\n",
       "    <tr>\n",
       "      <th>4</th>\n",
       "      <td>Hancock</td>\n",
       "      <td>-68.402</td>\n",
       "      <td>44.614</td>\n",
       "    </tr>\n",
       "    <tr>\n",
       "      <th>5</th>\n",
       "      <td>Kennebec</td>\n",
       "      <td>-69.753</td>\n",
       "      <td>44.415</td>\n",
       "    </tr>\n",
       "    <tr>\n",
       "      <th>6</th>\n",
       "      <td>Knox</td>\n",
       "      <td>-69.135</td>\n",
       "      <td>44.101</td>\n",
       "    </tr>\n",
       "    <tr>\n",
       "      <th>7</th>\n",
       "      <td>Lincoln</td>\n",
       "      <td>-69.518</td>\n",
       "      <td>44.078</td>\n",
       "    </tr>\n",
       "    <tr>\n",
       "      <th>8</th>\n",
       "      <td>Oxford</td>\n",
       "      <td>-70.734</td>\n",
       "      <td>44.426</td>\n",
       "    </tr>\n",
       "    <tr>\n",
       "      <th>9</th>\n",
       "      <td>Penobscot</td>\n",
       "      <td>-68.575</td>\n",
       "      <td>45.354</td>\n",
       "    </tr>\n",
       "    <tr>\n",
       "      <th>10</th>\n",
       "      <td>Piscataquis</td>\n",
       "      <td>-69.473</td>\n",
       "      <td>45.621</td>\n",
       "    </tr>\n",
       "    <tr>\n",
       "      <th>11</th>\n",
       "      <td>Sagadahoc</td>\n",
       "      <td>-69.807</td>\n",
       "      <td>43.936</td>\n",
       "    </tr>\n",
       "    <tr>\n",
       "      <th>12</th>\n",
       "      <td>Somerset</td>\n",
       "      <td>-69.921</td>\n",
       "      <td>45.392</td>\n",
       "    </tr>\n",
       "    <tr>\n",
       "      <th>13</th>\n",
       "      <td>Waldo</td>\n",
       "      <td>-69.221</td>\n",
       "      <td>44.545</td>\n",
       "    </tr>\n",
       "    <tr>\n",
       "      <th>14</th>\n",
       "      <td>Washington</td>\n",
       "      <td>-67.759</td>\n",
       "      <td>44.976</td>\n",
       "    </tr>\n",
       "    <tr>\n",
       "      <th>15</th>\n",
       "      <td>York</td>\n",
       "      <td>-70.757</td>\n",
       "      <td>43.471</td>\n",
       "    </tr>\n",
       "  </tbody>\n",
       "</table>\n",
       "</div>"
      ]
     },
     "execution_count": 4,
     "metadata": {},
     "output_type": "execute_result"
    }
   ],
   "execution_count": 4
  },
  {
   "metadata": {
    "ExecuteTime": {
     "end_time": "2025-02-26T03:42:00.005027Z",
     "start_time": "2025-02-26T03:42:00.001743Z"
    }
   },
   "cell_type": "code",
   "source": [
    "def clean_country(value):\n",
    "    if isinstance(value, str):\n",
    "        return value.lower().replace(\"country\", \"\").strip()"
   ],
   "id": "147de28f556295cf",
   "outputs": [],
   "execution_count": 5
  },
  {
   "metadata": {
    "ExecuteTime": {
     "end_time": "2025-02-26T03:42:00.132439Z",
     "start_time": "2025-02-26T03:42:00.128848Z"
    }
   },
   "cell_type": "code",
   "source": [
    "def clean_city(value):\n",
    "    if isinstance(value, str):\n",
    "        return value.lower().replace(\"city\", \"\").strip()\n",
    "    return value"
   ],
   "id": "1af052cd9d1d0e46",
   "outputs": [],
   "execution_count": 6
  },
  {
   "metadata": {
    "ExecuteTime": {
     "end_time": "2025-02-26T03:42:00.205392Z",
     "start_time": "2025-02-26T03:42:00.192687Z"
    }
   },
   "cell_type": "code",
   "source": [
    "town_cords_clean = town_cords\n",
    "town_cords_clean['Location'] = town_cords[\"Location\"].apply(clean_city)\n",
    "town_cords_clean"
   ],
   "id": "7da56f0e31088aea",
   "outputs": [
    {
     "data": {
      "text/plain": [
       "        Location  Latitude  Longitude\n",
       "0          anson     44.80     -69.90\n",
       "1        ashland     46.62     -68.40\n",
       "2         auburn     44.09     -70.25\n",
       "3        augusta     44.33     -69.73\n",
       "4         bangor     44.83     -68.79\n",
       "..           ...       ...        ...\n",
       "125     winthrop     44.31     -69.96\n",
       "126    wiscasset     44.01     -69.67\n",
       "127     woodland     45.16     -67.41\n",
       "128     yarmouth     43.80     -70.19\n",
       "129  york harbor     43.14     -70.65\n",
       "\n",
       "[130 rows x 3 columns]"
      ],
      "text/html": [
       "<div>\n",
       "<style scoped>\n",
       "    .dataframe tbody tr th:only-of-type {\n",
       "        vertical-align: middle;\n",
       "    }\n",
       "\n",
       "    .dataframe tbody tr th {\n",
       "        vertical-align: top;\n",
       "    }\n",
       "\n",
       "    .dataframe thead th {\n",
       "        text-align: right;\n",
       "    }\n",
       "</style>\n",
       "<table border=\"1\" class=\"dataframe\">\n",
       "  <thead>\n",
       "    <tr style=\"text-align: right;\">\n",
       "      <th></th>\n",
       "      <th>Location</th>\n",
       "      <th>Latitude</th>\n",
       "      <th>Longitude</th>\n",
       "    </tr>\n",
       "  </thead>\n",
       "  <tbody>\n",
       "    <tr>\n",
       "      <th>0</th>\n",
       "      <td>anson</td>\n",
       "      <td>44.80</td>\n",
       "      <td>-69.90</td>\n",
       "    </tr>\n",
       "    <tr>\n",
       "      <th>1</th>\n",
       "      <td>ashland</td>\n",
       "      <td>46.62</td>\n",
       "      <td>-68.40</td>\n",
       "    </tr>\n",
       "    <tr>\n",
       "      <th>2</th>\n",
       "      <td>auburn</td>\n",
       "      <td>44.09</td>\n",
       "      <td>-70.25</td>\n",
       "    </tr>\n",
       "    <tr>\n",
       "      <th>3</th>\n",
       "      <td>augusta</td>\n",
       "      <td>44.33</td>\n",
       "      <td>-69.73</td>\n",
       "    </tr>\n",
       "    <tr>\n",
       "      <th>4</th>\n",
       "      <td>bangor</td>\n",
       "      <td>44.83</td>\n",
       "      <td>-68.79</td>\n",
       "    </tr>\n",
       "    <tr>\n",
       "      <th>...</th>\n",
       "      <td>...</td>\n",
       "      <td>...</td>\n",
       "      <td>...</td>\n",
       "    </tr>\n",
       "    <tr>\n",
       "      <th>125</th>\n",
       "      <td>winthrop</td>\n",
       "      <td>44.31</td>\n",
       "      <td>-69.96</td>\n",
       "    </tr>\n",
       "    <tr>\n",
       "      <th>126</th>\n",
       "      <td>wiscasset</td>\n",
       "      <td>44.01</td>\n",
       "      <td>-69.67</td>\n",
       "    </tr>\n",
       "    <tr>\n",
       "      <th>127</th>\n",
       "      <td>woodland</td>\n",
       "      <td>45.16</td>\n",
       "      <td>-67.41</td>\n",
       "    </tr>\n",
       "    <tr>\n",
       "      <th>128</th>\n",
       "      <td>yarmouth</td>\n",
       "      <td>43.80</td>\n",
       "      <td>-70.19</td>\n",
       "    </tr>\n",
       "    <tr>\n",
       "      <th>129</th>\n",
       "      <td>york harbor</td>\n",
       "      <td>43.14</td>\n",
       "      <td>-70.65</td>\n",
       "    </tr>\n",
       "  </tbody>\n",
       "</table>\n",
       "<p>130 rows × 3 columns</p>\n",
       "</div>"
      ]
     },
     "execution_count": 7,
     "metadata": {},
     "output_type": "execute_result"
    }
   ],
   "execution_count": 7
  },
  {
   "metadata": {
    "ExecuteTime": {
     "end_time": "2025-02-26T03:42:00.743597Z",
     "start_time": "2025-02-26T03:42:00.300862Z"
    }
   },
   "cell_type": "code",
   "source": [
    "source_df = pd.read_csv(\"/Users/jwilliamson/git/plasma_particle_simulator/Apple-mapping/csv/reformated_sources.csv\", index_col=False, keep_default_na=False)\n",
    "source_df"
   ],
   "id": "eec2c5b1a39a74a9",
   "outputs": [
    {
     "ename": "EmptyDataError",
     "evalue": "No columns to parse from file",
     "output_type": "error",
     "traceback": [
      "\u001B[0;31m---------------------------------------------------------------------------\u001B[0m",
      "\u001B[0;31mEmptyDataError\u001B[0m                            Traceback (most recent call last)",
      "Cell \u001B[0;32mIn[8], line 1\u001B[0m\n\u001B[0;32m----> 1\u001B[0m source_df \u001B[38;5;241m=\u001B[39m \u001B[43mpd\u001B[49m\u001B[38;5;241;43m.\u001B[39;49m\u001B[43mread_csv\u001B[49m\u001B[43m(\u001B[49m\u001B[38;5;124;43m\"\u001B[39;49m\u001B[38;5;124;43m/Users/jwilliamson/git/plasma_particle_simulator/Apple-mapping/csv/reformated_sources.csv\u001B[39;49m\u001B[38;5;124;43m\"\u001B[39;49m\u001B[43m,\u001B[49m\u001B[43m \u001B[49m\u001B[43mindex_col\u001B[49m\u001B[38;5;241;43m=\u001B[39;49m\u001B[38;5;28;43;01mFalse\u001B[39;49;00m\u001B[43m,\u001B[49m\u001B[43m \u001B[49m\u001B[43mkeep_default_na\u001B[49m\u001B[38;5;241;43m=\u001B[39;49m\u001B[38;5;28;43;01mFalse\u001B[39;49;00m\u001B[43m)\u001B[49m\n\u001B[1;32m      2\u001B[0m source_df\n",
      "File \u001B[0;32m~/venvs/Apple-mapping/lib/python3.9/site-packages/pandas/io/parsers/readers.py:1026\u001B[0m, in \u001B[0;36mread_csv\u001B[0;34m(filepath_or_buffer, sep, delimiter, header, names, index_col, usecols, dtype, engine, converters, true_values, false_values, skipinitialspace, skiprows, skipfooter, nrows, na_values, keep_default_na, na_filter, verbose, skip_blank_lines, parse_dates, infer_datetime_format, keep_date_col, date_parser, date_format, dayfirst, cache_dates, iterator, chunksize, compression, thousands, decimal, lineterminator, quotechar, quoting, doublequote, escapechar, comment, encoding, encoding_errors, dialect, on_bad_lines, delim_whitespace, low_memory, memory_map, float_precision, storage_options, dtype_backend)\u001B[0m\n\u001B[1;32m   1013\u001B[0m kwds_defaults \u001B[38;5;241m=\u001B[39m _refine_defaults_read(\n\u001B[1;32m   1014\u001B[0m     dialect,\n\u001B[1;32m   1015\u001B[0m     delimiter,\n\u001B[0;32m   (...)\u001B[0m\n\u001B[1;32m   1022\u001B[0m     dtype_backend\u001B[38;5;241m=\u001B[39mdtype_backend,\n\u001B[1;32m   1023\u001B[0m )\n\u001B[1;32m   1024\u001B[0m kwds\u001B[38;5;241m.\u001B[39mupdate(kwds_defaults)\n\u001B[0;32m-> 1026\u001B[0m \u001B[38;5;28;01mreturn\u001B[39;00m \u001B[43m_read\u001B[49m\u001B[43m(\u001B[49m\u001B[43mfilepath_or_buffer\u001B[49m\u001B[43m,\u001B[49m\u001B[43m \u001B[49m\u001B[43mkwds\u001B[49m\u001B[43m)\u001B[49m\n",
      "File \u001B[0;32m~/venvs/Apple-mapping/lib/python3.9/site-packages/pandas/io/parsers/readers.py:620\u001B[0m, in \u001B[0;36m_read\u001B[0;34m(filepath_or_buffer, kwds)\u001B[0m\n\u001B[1;32m    617\u001B[0m _validate_names(kwds\u001B[38;5;241m.\u001B[39mget(\u001B[38;5;124m\"\u001B[39m\u001B[38;5;124mnames\u001B[39m\u001B[38;5;124m\"\u001B[39m, \u001B[38;5;28;01mNone\u001B[39;00m))\n\u001B[1;32m    619\u001B[0m \u001B[38;5;66;03m# Create the parser.\u001B[39;00m\n\u001B[0;32m--> 620\u001B[0m parser \u001B[38;5;241m=\u001B[39m \u001B[43mTextFileReader\u001B[49m\u001B[43m(\u001B[49m\u001B[43mfilepath_or_buffer\u001B[49m\u001B[43m,\u001B[49m\u001B[43m \u001B[49m\u001B[38;5;241;43m*\u001B[39;49m\u001B[38;5;241;43m*\u001B[39;49m\u001B[43mkwds\u001B[49m\u001B[43m)\u001B[49m\n\u001B[1;32m    622\u001B[0m \u001B[38;5;28;01mif\u001B[39;00m chunksize \u001B[38;5;129;01mor\u001B[39;00m iterator:\n\u001B[1;32m    623\u001B[0m     \u001B[38;5;28;01mreturn\u001B[39;00m parser\n",
      "File \u001B[0;32m~/venvs/Apple-mapping/lib/python3.9/site-packages/pandas/io/parsers/readers.py:1620\u001B[0m, in \u001B[0;36mTextFileReader.__init__\u001B[0;34m(self, f, engine, **kwds)\u001B[0m\n\u001B[1;32m   1617\u001B[0m     \u001B[38;5;28mself\u001B[39m\u001B[38;5;241m.\u001B[39moptions[\u001B[38;5;124m\"\u001B[39m\u001B[38;5;124mhas_index_names\u001B[39m\u001B[38;5;124m\"\u001B[39m] \u001B[38;5;241m=\u001B[39m kwds[\u001B[38;5;124m\"\u001B[39m\u001B[38;5;124mhas_index_names\u001B[39m\u001B[38;5;124m\"\u001B[39m]\n\u001B[1;32m   1619\u001B[0m \u001B[38;5;28mself\u001B[39m\u001B[38;5;241m.\u001B[39mhandles: IOHandles \u001B[38;5;241m|\u001B[39m \u001B[38;5;28;01mNone\u001B[39;00m \u001B[38;5;241m=\u001B[39m \u001B[38;5;28;01mNone\u001B[39;00m\n\u001B[0;32m-> 1620\u001B[0m \u001B[38;5;28mself\u001B[39m\u001B[38;5;241m.\u001B[39m_engine \u001B[38;5;241m=\u001B[39m \u001B[38;5;28;43mself\u001B[39;49m\u001B[38;5;241;43m.\u001B[39;49m\u001B[43m_make_engine\u001B[49m\u001B[43m(\u001B[49m\u001B[43mf\u001B[49m\u001B[43m,\u001B[49m\u001B[43m \u001B[49m\u001B[38;5;28;43mself\u001B[39;49m\u001B[38;5;241;43m.\u001B[39;49m\u001B[43mengine\u001B[49m\u001B[43m)\u001B[49m\n",
      "File \u001B[0;32m~/venvs/Apple-mapping/lib/python3.9/site-packages/pandas/io/parsers/readers.py:1898\u001B[0m, in \u001B[0;36mTextFileReader._make_engine\u001B[0;34m(self, f, engine)\u001B[0m\n\u001B[1;32m   1895\u001B[0m     \u001B[38;5;28;01mraise\u001B[39;00m \u001B[38;5;167;01mValueError\u001B[39;00m(msg)\n\u001B[1;32m   1897\u001B[0m \u001B[38;5;28;01mtry\u001B[39;00m:\n\u001B[0;32m-> 1898\u001B[0m     \u001B[38;5;28;01mreturn\u001B[39;00m \u001B[43mmapping\u001B[49m\u001B[43m[\u001B[49m\u001B[43mengine\u001B[49m\u001B[43m]\u001B[49m\u001B[43m(\u001B[49m\u001B[43mf\u001B[49m\u001B[43m,\u001B[49m\u001B[43m \u001B[49m\u001B[38;5;241;43m*\u001B[39;49m\u001B[38;5;241;43m*\u001B[39;49m\u001B[38;5;28;43mself\u001B[39;49m\u001B[38;5;241;43m.\u001B[39;49m\u001B[43moptions\u001B[49m\u001B[43m)\u001B[49m\n\u001B[1;32m   1899\u001B[0m \u001B[38;5;28;01mexcept\u001B[39;00m \u001B[38;5;167;01mException\u001B[39;00m:\n\u001B[1;32m   1900\u001B[0m     \u001B[38;5;28;01mif\u001B[39;00m \u001B[38;5;28mself\u001B[39m\u001B[38;5;241m.\u001B[39mhandles \u001B[38;5;129;01mis\u001B[39;00m \u001B[38;5;129;01mnot\u001B[39;00m \u001B[38;5;28;01mNone\u001B[39;00m:\n",
      "File \u001B[0;32m~/venvs/Apple-mapping/lib/python3.9/site-packages/pandas/io/parsers/c_parser_wrapper.py:93\u001B[0m, in \u001B[0;36mCParserWrapper.__init__\u001B[0;34m(self, src, **kwds)\u001B[0m\n\u001B[1;32m     90\u001B[0m \u001B[38;5;28;01mif\u001B[39;00m kwds[\u001B[38;5;124m\"\u001B[39m\u001B[38;5;124mdtype_backend\u001B[39m\u001B[38;5;124m\"\u001B[39m] \u001B[38;5;241m==\u001B[39m \u001B[38;5;124m\"\u001B[39m\u001B[38;5;124mpyarrow\u001B[39m\u001B[38;5;124m\"\u001B[39m:\n\u001B[1;32m     91\u001B[0m     \u001B[38;5;66;03m# Fail here loudly instead of in cython after reading\u001B[39;00m\n\u001B[1;32m     92\u001B[0m     import_optional_dependency(\u001B[38;5;124m\"\u001B[39m\u001B[38;5;124mpyarrow\u001B[39m\u001B[38;5;124m\"\u001B[39m)\n\u001B[0;32m---> 93\u001B[0m \u001B[38;5;28mself\u001B[39m\u001B[38;5;241m.\u001B[39m_reader \u001B[38;5;241m=\u001B[39m \u001B[43mparsers\u001B[49m\u001B[38;5;241;43m.\u001B[39;49m\u001B[43mTextReader\u001B[49m\u001B[43m(\u001B[49m\u001B[43msrc\u001B[49m\u001B[43m,\u001B[49m\u001B[43m \u001B[49m\u001B[38;5;241;43m*\u001B[39;49m\u001B[38;5;241;43m*\u001B[39;49m\u001B[43mkwds\u001B[49m\u001B[43m)\u001B[49m\n\u001B[1;32m     95\u001B[0m \u001B[38;5;28mself\u001B[39m\u001B[38;5;241m.\u001B[39munnamed_cols \u001B[38;5;241m=\u001B[39m \u001B[38;5;28mself\u001B[39m\u001B[38;5;241m.\u001B[39m_reader\u001B[38;5;241m.\u001B[39munnamed_cols\n\u001B[1;32m     97\u001B[0m \u001B[38;5;66;03m# error: Cannot determine type of 'names'\u001B[39;00m\n",
      "File \u001B[0;32mparsers.pyx:581\u001B[0m, in \u001B[0;36mpandas._libs.parsers.TextReader.__cinit__\u001B[0;34m()\u001B[0m\n",
      "\u001B[0;31mEmptyDataError\u001B[0m: No columns to parse from file"
     ]
    }
   ],
   "execution_count": 8
  },
  {
   "metadata": {
    "ExecuteTime": {
     "end_time": "2025-02-26T03:42:00.746662Z",
     "start_time": "2025-02-07T01:08:41.404361Z"
    }
   },
   "cell_type": "code",
   "outputs": [],
   "execution_count": 130,
   "source": [
    "def clean_location(value):\n",
    "    if isinstance(value, str):\n",
    "        return (value.lower()\n",
    "                 .replace(\"foxcroft\", \"dover-foxcroft\")\n",
    "                 .strip())\n",
    "    return value"
   ],
   "id": "ef12613323d05a82"
  },
  {
   "metadata": {
    "ExecuteTime": {
     "end_time": "2025-02-26T03:42:00.747297Z",
     "start_time": "2025-02-07T01:08:41.456484Z"
    }
   },
   "cell_type": "code",
   "execution_count": 131,
   "source": [
    "clean_source_df = source_df\n",
    "clean_source_df['Location'] = clean_source_df[\"Location\"].apply(clean_location)\n",
    "mask = clean_source_df[\"Location\"] == \"\"\n",
    "clean_source_df[\"Missing Location\"] = mask\n",
    "clean_source_df\n"
   ],
   "id": "6fc489f28b99cae5",
   "outputs": []
  },
  {
   "metadata": {
    "ExecuteTime": {
     "end_time": "2025-02-26T03:42:00.747599Z",
     "start_time": "2025-02-07T01:08:41.531591Z"
    }
   },
   "cell_type": "code",
   "execution_count": 132,
   "source": [
    "nonull_loc_source_df = clean_source_df[~mask]\n",
    "nonull_loc_source_df"
   ],
   "id": "f0dc46dc6c25a754",
   "outputs": []
  },
  {
   "metadata": {
    "ExecuteTime": {
     "end_time": "2025-02-26T03:42:00.761652Z",
     "start_time": "2025-02-07T01:08:41.633923Z"
    }
   },
   "cell_type": "code",
   "execution_count": 133,
   "source": [
    "merge_nonnull = nonull_loc_source_df.merge(town_cords, on=[\"Location\"], how=\"left\")\n",
    "merge_nonnull"
   ],
   "id": "74adc538979139ef",
   "outputs": []
  },
  {
   "metadata": {
    "ExecuteTime": {
     "end_time": "2025-02-26T03:42:00.773353Z",
     "start_time": "2025-02-07T02:03:04.712617Z"
    }
   },
   "cell_type": "code",
   "execution_count": 149,
   "source": [
    "null_loc_source_df = clean_source_df[mask]\n",
    "null_loc_source_df"
   ],
   "id": "c81cea6f4d971bd2",
   "outputs": []
  },
  {
   "metadata": {
    "ExecuteTime": {
     "end_time": "2025-02-26T03:42:00.775522Z",
     "start_time": "2025-02-07T02:28:59.225864Z"
    }
   },
   "cell_type": "code",
   "execution_count": 164,
   "source": [
    "\n",
    "nonull_loc_source_df[[\"Location\"]].drop_duplicates().merge(town_cords_clean ,on=\"Location\", how=\"left\" ).to_csv(\"that.csv\", index=False)"
   ],
   "id": "8597a10e3b1762c7",
   "outputs": []
  },
  {
   "metadata": {
    "ExecuteTime": {
     "end_time": "2025-02-26T03:42:00.777480Z",
     "start_time": "2025-02-07T02:13:23.812139Z"
    }
   },
   "cell_type": "code",
   "execution_count": 156,
   "source": "town_cords_clean",
   "id": "f5caf18298e87d64",
   "outputs": []
  }
 ],
 "metadata": {
  "kernelspec": {
   "display_name": "Python 3 (ipykernel)",
   "language": "python",
   "name": "python3"
  },
  "language_info": {
   "codemirror_mode": {
    "name": "ipython",
    "version": 3
   },
   "file_extension": ".py",
   "mimetype": "text/x-python",
   "name": "python",
   "nbconvert_exporter": "python",
   "pygments_lexer": "ipython3",
   "version": "3.9.6"
  }
 },
 "nbformat": 4,
 "nbformat_minor": 5
}
