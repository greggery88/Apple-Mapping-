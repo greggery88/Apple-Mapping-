{
 "cells": [
  {
   "cell_type": "code",
   "id": "initial_id",
   "metadata": {
    "collapsed": true,
    "ExecuteTime": {
     "end_time": "2025-02-06T03:30:40.453412Z",
     "start_time": "2025-02-06T03:30:40.448410Z"
    }
   },
   "source": [
    "import pandas as pd\n",
    "import numpy as np\n",
    "import os"
   ],
   "outputs": [],
   "execution_count": 5
  },
  {
   "metadata": {
    "ExecuteTime": {
     "end_time": "2025-02-06T03:40:30.656464Z",
     "start_time": "2025-02-06T03:40:30.647971Z"
    }
   },
   "cell_type": "code",
   "source": [
    "rows = []\n",
    "\n",
    "file_list = os.listdir('/Users/jwilliamson/git/plasma_particle_simulator/Apple-mapping/fair sources')"
   ],
   "id": "e45a004d76818226",
   "outputs": [],
   "execution_count": 17
  },
  {
   "metadata": {
    "ExecuteTime": {
     "end_time": "2025-02-06T03:58:07.962929Z",
     "start_time": "2025-02-06T03:58:07.951633Z"
    }
   },
   "cell_type": "code",
   "source": [
    "def _cleanup(label):\n",
    "    return (\n",
    "        label.lower()\n",
    "        .strip()\n",
    "        .replace(\"?\", \"\")\n",
    "        .replace(\"()\", \"\")\n",
    "        .replace(\"  \", \" \")\n",
    "        .replace(\"(pears)\", \"(pear)\")\n",
    "    )"
   ],
   "id": "5396021536ec15a3",
   "outputs": [],
   "execution_count": 24
  },
  {
   "metadata": {
    "ExecuteTime": {
     "end_time": "2025-02-06T04:14:32.469092Z",
     "start_time": "2025-02-06T04:14:31.932459Z"
    }
   },
   "cell_type": "code",
   "source": [
    "for county in file_list:\n",
    "    sheet_names = pd.ExcelFile(f\"/Users/jwilliamson/git/plasma_particle_simulator/Apple-mapping/fair sources/{county}\").sheet_names\n",
    "\n",
    "    county_name = county.replace(\"Copy of Maine, \", \"\").replace(\n",
    "            \" County Sources.xlsx\", \"\"\n",
    "        )\n",
    "    for fair in sheet_names:\n",
    "        sd = pd.read_excel(f\"/Users/jwilliamson/git/plasma_particle_simulator/Apple-mapping/fair sources/{county}\", sheet_name=fair, keep_default_na=False)\n",
    "\n",
    "\n",
    "        s = sd.shape[0]\n",
    "        for i in range(sd.shape[0]):\n",
    "            if not pd.isnull(sd[\"Year\"].iloc[i]):\n",
    "                year = sd[\"Year\"].iloc[i]\n",
    "                event = sd[\"Event\"].iloc[i]\n",
    "                location = sd[\"Location\"].iloc[i]\n",
    "                source_date = sd[\"Source Date\"].iloc[i]\n",
    "                source = sd[\"Source\"].iloc[i]\n",
    "                page = sd[\"Page\"].iloc[i]\n",
    "                notes = sd[\"Notes\"].iloc[i]\n",
    "\n",
    "                rows.append(dict(\n",
    "                    year=_cleanup(year),\n",
    "                    event=_cleanup(event),\n",
    "                    location=_cleanup(location),\n",
    "                    source_date=_cleanup(source_date),\n",
    "                    source=_cleanup(source),\n",
    "                    page=_cleanup(page),\n",
    "                    notes=_cleanup(notes),\n",
    "                ))\n",
    "data = pd.DataFrame.from_records(rows)\n"
   ],
   "id": "48ed0f41ea345c37",
   "outputs": [
    {
     "ename": "AttributeError",
     "evalue": "'numpy.int64' object has no attribute 'lower'",
     "output_type": "error",
     "traceback": [
      "\u001B[0;31m---------------------------------------------------------------------------\u001B[0m",
      "\u001B[0;31mAttributeError\u001B[0m                            Traceback (most recent call last)",
      "Cell \u001B[0;32mIn[36], line 22\u001B[0m\n\u001B[1;32m     18\u001B[0m             page \u001B[38;5;241m=\u001B[39m sd[\u001B[38;5;124m\"\u001B[39m\u001B[38;5;124mPage\u001B[39m\u001B[38;5;124m\"\u001B[39m]\u001B[38;5;241m.\u001B[39miloc[i]\n\u001B[1;32m     19\u001B[0m             notes \u001B[38;5;241m=\u001B[39m sd[\u001B[38;5;124m\"\u001B[39m\u001B[38;5;124mNotes\u001B[39m\u001B[38;5;124m\"\u001B[39m]\u001B[38;5;241m.\u001B[39miloc[i]\n\u001B[1;32m     21\u001B[0m             rows\u001B[38;5;241m.\u001B[39mappend(\u001B[38;5;28mdict\u001B[39m(\n\u001B[0;32m---> 22\u001B[0m                 year\u001B[38;5;241m=\u001B[39m\u001B[43m_cleanup\u001B[49m\u001B[43m(\u001B[49m\u001B[43myear\u001B[49m\u001B[43m)\u001B[49m,\n\u001B[1;32m     23\u001B[0m                 event\u001B[38;5;241m=\u001B[39m_cleanup(event),\n\u001B[1;32m     24\u001B[0m                 location\u001B[38;5;241m=\u001B[39m_cleanup(location),\n\u001B[1;32m     25\u001B[0m                 source_date\u001B[38;5;241m=\u001B[39m_cleanup(source_date),\n\u001B[1;32m     26\u001B[0m                 source\u001B[38;5;241m=\u001B[39m_cleanup(source),\n\u001B[1;32m     27\u001B[0m                 page\u001B[38;5;241m=\u001B[39m_cleanup(page),\n\u001B[1;32m     28\u001B[0m                 notes\u001B[38;5;241m=\u001B[39m_cleanup(notes),\n\u001B[1;32m     29\u001B[0m             ))\n\u001B[1;32m     30\u001B[0m data \u001B[38;5;241m=\u001B[39m pd\u001B[38;5;241m.\u001B[39mDataFrame\u001B[38;5;241m.\u001B[39mfrom_records(rows)\n",
      "Cell \u001B[0;32mIn[24], line 3\u001B[0m, in \u001B[0;36m_cleanup\u001B[0;34m(label)\u001B[0m\n\u001B[1;32m      1\u001B[0m \u001B[38;5;28;01mdef\u001B[39;00m \u001B[38;5;21m_cleanup\u001B[39m(label):\n\u001B[1;32m      2\u001B[0m     \u001B[38;5;28;01mreturn\u001B[39;00m (\n\u001B[0;32m----> 3\u001B[0m         \u001B[43mlabel\u001B[49m\u001B[38;5;241;43m.\u001B[39;49m\u001B[43mlower\u001B[49m()\n\u001B[1;32m      4\u001B[0m         \u001B[38;5;241m.\u001B[39mstrip()\n\u001B[1;32m      5\u001B[0m         \u001B[38;5;241m.\u001B[39mreplace(\u001B[38;5;124m\"\u001B[39m\u001B[38;5;124m?\u001B[39m\u001B[38;5;124m\"\u001B[39m, \u001B[38;5;124m\"\u001B[39m\u001B[38;5;124m\"\u001B[39m)\n\u001B[1;32m      6\u001B[0m         \u001B[38;5;241m.\u001B[39mreplace(\u001B[38;5;124m\"\u001B[39m\u001B[38;5;124m()\u001B[39m\u001B[38;5;124m\"\u001B[39m, \u001B[38;5;124m\"\u001B[39m\u001B[38;5;124m\"\u001B[39m)\n\u001B[1;32m      7\u001B[0m         \u001B[38;5;241m.\u001B[39mreplace(\u001B[38;5;124m\"\u001B[39m\u001B[38;5;124m  \u001B[39m\u001B[38;5;124m\"\u001B[39m, \u001B[38;5;124m\"\u001B[39m\u001B[38;5;124m \u001B[39m\u001B[38;5;124m\"\u001B[39m)\n\u001B[1;32m      8\u001B[0m         \u001B[38;5;241m.\u001B[39mreplace(\u001B[38;5;124m\"\u001B[39m\u001B[38;5;124m(pears)\u001B[39m\u001B[38;5;124m\"\u001B[39m, \u001B[38;5;124m\"\u001B[39m\u001B[38;5;124m(pear)\u001B[39m\u001B[38;5;124m\"\u001B[39m)\n\u001B[1;32m      9\u001B[0m     )\n",
      "\u001B[0;31mAttributeError\u001B[0m: 'numpy.int64' object has no attribute 'lower'"
     ]
    }
   ],
   "execution_count": 36
  },
  {
   "metadata": {},
   "cell_type": "code",
   "outputs": [],
   "execution_count": null,
   "source": "",
   "id": "427b6dd789181d9"
  }
 ],
 "metadata": {
  "kernelspec": {
   "display_name": "Python 3",
   "language": "python",
   "name": "python3"
  },
  "language_info": {
   "codemirror_mode": {
    "name": "ipython",
    "version": 2
   },
   "file_extension": ".py",
   "mimetype": "text/x-python",
   "name": "python",
   "nbconvert_exporter": "python",
   "pygments_lexer": "ipython2",
   "version": "2.7.6"
  }
 },
 "nbformat": 4,
 "nbformat_minor": 5
}
